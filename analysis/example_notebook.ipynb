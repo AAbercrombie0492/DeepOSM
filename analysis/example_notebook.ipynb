{
 "cells": [
  {
   "cell_type": "code",
   "execution_count": 1,
   "metadata": {
    "collapsed": false
   },
   "outputs": [],
   "source": [
    "from analysis import label_chunks_cnn\n",
    "from data_pipeline.download_naips import NAIPDownloader\n",
    "from data_pipeline import rasterize_naips"
   ]
  },
  {
   "cell_type": "code",
   "execution_count": 2,
   "metadata": {
    "collapsed": false
   },
   "outputs": [
    {
     "name": "stdout",
     "output_type": "stream",
     "text": [
      "/Deep-OSM/data/naip/m_3807708_ne_18_1_20130924.tif already downloaded\n"
     ]
    }
   ],
   "source": [
    "naiper = NAIPDownloader()\n",
    "raster_data_path = naiper.download_naips()"
   ]
  },
  {
   "cell_type": "code",
   "execution_count": 3,
   "metadata": {
    "collapsed": false
   },
   "outputs": [
    {
     "name": "stdout",
     "output_type": "stream",
     "text": [
      "OPENED NAIP with 7659 rows, 6171 cols, and 1 bands\n",
      "GEO-BOUNDS for image is {'sw': (38.98531406420655, -77.02694828982044), 'ne': (38.95339105523594, -77.0491169605209)}\n",
      "TRAINING DATA: shaped the tiff data to 24153 tiles sized 12 x 12 x 1\n",
      "TEST DATA: shaped the tiff data to 24153 tiles sized 12 x 12 x 1\n"
     ]
    }
   ],
   "source": [
    "training_images, test_images, raster_dataset, rows, cols = rasterize_naips.read_naip(raster_data_path)"
   ]
  },
  {
   "cell_type": "code",
   "execution_count": null,
   "metadata": {
    "collapsed": true
   },
   "outputs": [],
   "source": []
  }
 ],
 "metadata": {
  "kernelspec": {
   "display_name": "Python 2",
   "language": "python",
   "name": "python2"
  },
  "language_info": {
   "codemirror_mode": {
    "name": "ipython",
    "version": 2
   },
   "file_extension": ".py",
   "mimetype": "text/x-python",
   "name": "python",
   "nbconvert_exporter": "python",
   "pygments_lexer": "ipython2",
   "version": "2.7.6"
  }
 },
 "nbformat": 4,
 "nbformat_minor": 0
}
