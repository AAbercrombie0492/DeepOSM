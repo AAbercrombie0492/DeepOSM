{
 "cells": [
  {
   "cell_type": "code",
   "execution_count": 1,
   "metadata": {
    "collapsed": true
   },
   "outputs": [],
   "source": [
    "import run_analysis"
   ]
  },
  {
   "cell_type": "code",
   "execution_count": 2,
   "metadata": {
    "collapsed": true
   },
   "outputs": [],
   "source": [
    "from config_data import *"
   ]
  },
  {
   "cell_type": "code",
   "execution_count": 3,
   "metadata": {
    "collapsed": true
   },
   "outputs": [],
   "source": [
    "from download_naips import NAIPDownloader"
   ]
  },
  {
   "cell_type": "code",
   "execution_count": 4,
   "metadata": {
    "collapsed": false
   },
   "outputs": [
    {
     "name": "stdout",
     "output_type": "stream",
     "text": [
      "NAIP /DeepOSM/data/naip/m_3807708_ne_18_1_20130924.tif already downloaded\n",
      "NAIP /DeepOSM/data/naip/m_3807708_nw_18_1_20130904.tif already downloaded\n",
      "NAIP /DeepOSM/data/naip/m_3807708_se_18_1_20130924.tif already downloaded\n",
      "NAIP /DeepOSM/data/naip/m_3807708_se_18_1_20130924.tif already downloaded\n"
     ]
    }
   ],
   "source": [
    "raster_data_paths = NAIPDownloader(NUMBER_OF_NAIPS,\n",
    "                                 RANDOMIZE_NAIPS,\n",
    "                                 NAIP_STATE,\n",
    "                                 NAIP_YEAR,\n",
    "                                 NAIP_RESOLUTION,\n",
    "                                 NAIP_SPECTRUM,\n",
    "                                 NAIP_GRID,\n",
    "                                 HARDCODED_NAIP_LIST).download_naips()  "
   ]
  },
  {
   "cell_type": "code",
   "execution_count": null,
   "metadata": {
    "collapsed": false
   },
   "outputs": [
    {
     "name": "stdout",
     "output_type": "stream",
     "text": [
      "DOWNLOADING 3 PBFs...\n",
      "PBF /DeepOSM/data/maryland-latest.osm.pbf already downloaded\n",
      "PBF /DeepOSM/data/virginia-latest.osm.pbf already downloaded\n",
      "PBF /DeepOSM/data/district-of-columbia-latest.osm.pbf already downloaded\n",
      "EXTRACTED WAYS with locations from pbf file /DeepOSM/data/maryland-latest.osm.pbf, took 32.9s\n",
      "EXTRACTED WAYS with locations from pbf file /DeepOSM/data/virginia-latest.osm.pbf, took 59.1s\n",
      "EXTRACTED WAYS with locations from pbf file /DeepOSM/data/district-of-columbia-latest.osm.pbf, took 5.5s\n",
      "FINDING WAYS on NAIP...  0.0s\n",
      "EXTRACTED 39 highways in NAIP bounds, of 3666 ways\n",
      "MAKING BITMAP for way presence...  2.1s\n",
      "OPENED NAIP with 7659 rows, 6171 cols, and 1 bands\n",
      "GEO-BOUNDS for image chunk is {'sw': (38.93364288504744, -77.06585248141359), 'ne': (39.003857347769674, -76.99663397248327)}\n",
      "FINDING WAYS on NAIP...  0.0s\n",
      "EXTRACTED 86 highways in NAIP bounds, of 3666 ways\n",
      "MAKING BITMAP for way presence...  4.7s\n",
      "OPENED NAIP with 7662 rows, 6176 cols, and 1 bands\n",
      "GEO-BOUNDS for image chunk is {'sw': (38.933609784870235, -77.1283537217638), 'ne': (39.003887709853196, -77.05914175201985)}\n",
      "FINDING WAYS on NAIP...  0.0s\n",
      "EXTRACTED 36 highways in NAIP bounds, of 3666 ways\n",
      "MAKING BITMAP for way presence...  1.9s\n",
      "OPENED NAIP with 7658 rows, 6175 cols, and 1 bands\n",
      "GEO-BOUNDS for image chunk is {'sw': (38.87114775884972, -77.06585109684843), 'ne': (38.94135310183272, -76.99664430802693)}\n",
      "FINDING WAYS on NAIP...  0.0s\n",
      "EXTRACTED 36 highways in NAIP bounds, of 3666 ways\n",
      "MAKING BITMAP for way presence...  1.9s\n",
      "OPENED NAIP with 7658 rows, 6175 cols, and 1 bands\n",
      "GEO-BOUNDS for image chunk is {'sw': (38.87114775884972, -77.06585109684843), 'ne': (38.94135310183272, -76.99664430802693)}\n"
     ]
    }
   ],
   "source": [
    "road_labels, naip_tiles, waymap, way_bitmap_npy = run_analysis.random_training_data(raster_data_paths, cache_way_bmp=False, extract_type='tennis')\n",
    "equal_count_way_list, equal_count_tile_list = run_analysis.equalize_data(road_labels, naip_tiles)\n",
    "test_labels, training_labels, test_images, training_images = run_analysis.split_train_test(equal_count_tile_list,equal_count_way_list)   "
   ]
  },
  {
   "cell_type": "code",
   "execution_count": null,
   "metadata": {
    "collapsed": false
   },
   "outputs": [
    {
     "name": "stdout",
     "output_type": "stream",
     "text": [
      "TRAINING/TEST DATA: shaped the tiff data to 1020 tiles sized 64 x 64 with 1 bands\n",
      "CREATING ONE-HOT LABELS...\n",
      "CREATING TEST one-hot labels\n",
      "ONE-HOT labels: 19 on, 19 off (50.0% on)\n",
      "CREATING TRAINING one-hot labels\n",
      "ONE-HOT labels: 255 on, 255 off (50.0% on)\n",
      "one-hotting took 0.8s\n",
      "CREATED DATASET: 510 training images, 38 test images, with 510 training labels, and 38 test labels\n",
      "TRAINING...\n",
      "step 0, loss = 100.270294189, loss rolling avg = 100.270294189 \n",
      "step 1, loss = 491.600891113, loss rolling avg = 295.935592651 \n",
      "step 2, loss = 354.180145264, loss rolling avg = 315.350443522 \n",
      "step 3, loss = 89.3445739746, loss rolling avg = 258.848976135 \n",
      "step 4, loss = 264.927490234, loss rolling avg = 260.064678955 \n",
      "step 5, loss = 355.176513672, loss rolling avg = 275.916651408 \n",
      "step 6, loss = 303.929443359, loss rolling avg = 279.91847883 \n",
      "step 7, loss = 141.670837402, loss rolling avg = 262.637523651 \n",
      "step 8, loss = 85.8197784424, loss rolling avg = 242.991107517 \n",
      "step 9, loss = 165.203582764, loss rolling avg = 235.212355042 \n",
      "step 10, loss = 150.544647217, loss rolling avg = 227.515290694 \n",
      "step 11, loss = 164.66293335, loss rolling avg = 222.277594248 \n",
      "step 12, loss = 71.256980896, loss rolling avg = 210.660623991 \n",
      "step 13, loss = 87.6343841553, loss rolling avg = 201.873035431 \n",
      "step 14, loss = 156.856124878, loss rolling avg = 198.871908061 \n",
      "step 15, loss = 194.678543091, loss rolling avg = 198.60982275 \n",
      "step 16, loss = 84.2421569824, loss rolling avg = 191.882312999 \n",
      "step 17, loss = 68.3658065796, loss rolling avg = 185.020284865 \n",
      "step 18, loss = 91.3961181641, loss rolling avg = 180.092697144 \n",
      "step 19, loss = 112.135421753, loss rolling avg = 176.694833374 \n",
      "step 20, loss = 115.188201904, loss rolling avg = 173.765946161 \n"
     ]
    }
   ],
   "source": [
    "predictions = run_analysis.analyze(test_labels, training_labels, test_images, training_images, waymap)\n"
   ]
  },
  {
   "cell_type": "code",
   "execution_count": null,
   "metadata": {
    "collapsed": false
   },
   "outputs": [],
   "source": [
    "run_analysis.render_results_as_images(raster_data_paths, training_labels, test_labels, predictions, way_bitmap_npy)"
   ]
  }
 ],
 "metadata": {
  "kernelspec": {
   "display_name": "Python 2",
   "language": "python",
   "name": "python2"
  },
  "language_info": {
   "codemirror_mode": {
    "name": "ipython",
    "version": 2
   },
   "file_extension": ".py",
   "mimetype": "text/x-python",
   "name": "python",
   "nbconvert_exporter": "python",
   "pygments_lexer": "ipython2",
   "version": "2.7.6"
  }
 },
 "nbformat": 4,
 "nbformat_minor": 0
}
