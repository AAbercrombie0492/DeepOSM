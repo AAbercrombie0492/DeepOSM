{
 "cells": [
  {
   "cell_type": "code",
   "execution_count": 1,
   "metadata": {
    "collapsed": true
   },
   "outputs": [],
   "source": [
    "import run_analysis"
   ]
  },
  {
   "cell_type": "code",
   "execution_count": 2,
   "metadata": {
    "collapsed": true
   },
   "outputs": [],
   "source": [
    "from config_data import *"
   ]
  },
  {
   "cell_type": "code",
   "execution_count": 3,
   "metadata": {
    "collapsed": true
   },
   "outputs": [],
   "source": [
    "from download_naips import NAIPDownloader"
   ]
  },
  {
   "cell_type": "code",
   "execution_count": 4,
   "metadata": {
    "collapsed": false
   },
   "outputs": [
    {
     "name": "stdout",
     "output_type": "stream",
     "text": [
      "NAIP /DeepOSM/data/naip/m_3807708_ne_18_1_20130924.tif already downloaded\n",
      "NAIP /DeepOSM/data/naip/m_3807708_nw_18_1_20130904.tif already downloaded\n",
      "NAIP /DeepOSM/data/naip/m_3807708_se_18_1_20130924.tif already downloaded\n",
      "NAIP /DeepOSM/data/naip/m_3807708_se_18_1_20130924.tif already downloaded\n"
     ]
    }
   ],
   "source": [
    "raster_data_paths = NAIPDownloader(NUMBER_OF_NAIPS,\n",
    "                                 RANDOMIZE_NAIPS,\n",
    "                                 NAIP_STATE,\n",
    "                                 NAIP_YEAR,\n",
    "                                 NAIP_RESOLUTION,\n",
    "                                 NAIP_SPECTRUM,\n",
    "                                 NAIP_GRID,\n",
    "                                 HARDCODED_NAIP_LIST).download_naips()  "
   ]
  },
  {
   "cell_type": "code",
   "execution_count": 5,
   "metadata": {
    "collapsed": false
   },
   "outputs": [
    {
     "name": "stdout",
     "output_type": "stream",
     "text": [
      "DOWNLOADING 3 PBFs...\n",
      "PBF /DeepOSM/data/maryland-latest.osm.pbf already downloaded\n",
      "PBF /DeepOSM/data/virginia-latest.osm.pbf already downloaded\n",
      "PBF /DeepOSM/data/district-of-columbia-latest.osm.pbf already downloaded\n",
      "EXTRACTED WAYS with locations from pbf file /DeepOSM/data/maryland-latest.osm.pbf, took 32.9s\n",
      "EXTRACTED WAYS with locations from pbf file /DeepOSM/data/virginia-latest.osm.pbf, took 58.7s\n",
      "EXTRACTED WAYS with locations from pbf file /DeepOSM/data/district-of-columbia-latest.osm.pbf, took 5.6s\n",
      "FINDING WAYS on NAIP...  0.0s\n",
      "EXTRACTED 39 highways in NAIP bounds, of 3666 ways\n",
      "MAKING BITMAP for way presence...  5.0s\n",
      "OPENED NAIP with 7659 rows, 6171 cols, and 2 bands\n",
      "GEO-BOUNDS for image chunk is {'sw': (38.93364288504744, -77.06585248141359), 'ne': (39.003857347769674, -76.99663397248327)}\n",
      "FINDING WAYS on NAIP...  0.0s\n",
      "EXTRACTED 86 highways in NAIP bounds, of 3666 ways\n",
      "MAKING BITMAP for way presence...  11.1s\n",
      "OPENED NAIP with 7662 rows, 6176 cols, and 2 bands\n",
      "GEO-BOUNDS for image chunk is {'sw': (38.933609784870235, -77.1283537217638), 'ne': (39.003887709853196, -77.05914175201985)}\n",
      "FINDING WAYS on NAIP...  0.0s\n",
      "EXTRACTED 36 highways in NAIP bounds, of 3666 ways\n",
      "MAKING BITMAP for way presence...  4.3s\n",
      "OPENED NAIP with 7658 rows, 6175 cols, and 2 bands\n",
      "GEO-BOUNDS for image chunk is {'sw': (38.87114775884972, -77.06585109684843), 'ne': (38.94135310183272, -76.99664430802693)}\n",
      "FINDING WAYS on NAIP...  0.0s\n",
      "EXTRACTED 36 highways in NAIP bounds, of 3666 ways\n",
      "MAKING BITMAP for way presence...  4.4s\n",
      "OPENED NAIP with 7658 rows, 6175 cols, and 2 bands\n",
      "GEO-BOUNDS for image chunk is {'sw': (38.87114775884972, -77.06585109684843), 'ne': (38.94135310183272, -76.99664430802693)}\n"
     ]
    }
   ],
   "source": [
    "road_labels, naip_tiles, waymap, way_bitmap_npy = run_analysis.random_training_data(raster_data_paths, cache_way_bmp=False, extract_type='tennis')\n",
    "equal_count_way_list, equal_count_tile_list = run_analysis.equalize_data(road_labels, naip_tiles)\n",
    "test_labels, training_labels, test_images, training_images = run_analysis.split_train_test(equal_count_tile_list,equal_count_way_list)   "
   ]
  },
  {
   "cell_type": "code",
   "execution_count": 6,
   "metadata": {
    "collapsed": false
   },
   "outputs": [
    {
     "name": "stdout",
     "output_type": "stream",
     "text": [
      "TRAINING/TEST DATA: shaped the tiff data to 1202 tiles sized 64 x 64 with 2 bands\n",
      "CREATING ONE-HOT LABELS...\n",
      "CREATING TEST one-hot labels\n",
      "ONE-HOT labels: 22 on, 23 off (48.9% on)\n",
      "CREATING TRAINING one-hot labels\n",
      "ONE-HOT labels: 301 on, 300 off (50.1% on)\n",
      "one-hotting took 0.9s\n",
      "CREATED DATASET: 601 training images, 45 test images, with 601 training labels, and 45 test labels\n",
      "TRAINING...\n",
      "step 0, loss = 0.900533080101, loss rolling avg = 0.900533080101 \n",
      "training time 0.4s\n",
      "test accuracy 0.488889\n"
     ]
    }
   ],
   "source": [
    "predictions = run_analysis.analyze(test_labels, training_labels, test_images, training_images, waymap)\n"
   ]
  },
  {
   "cell_type": "code",
   "execution_count": 7,
   "metadata": {
    "collapsed": false
   },
   "outputs": [
    {
     "name": "stdout",
     "output_type": "stream",
     "text": [
      "GENERATING JPEG for /DeepOSM/data/naip/m_3807708_ne_18_1_20130924.tif\n",
      "5.4s to FLATTEN the 2 analyzed bands of TIF to JPEG\n",
      "0.1s to SHADE PREDICTIONS on JPEG\n",
      "14.2s to DRAW WAYS ON JPEG\n",
      "GENERATING JPEG for /DeepOSM/data/naip/m_3807708_nw_18_1_20130904.tif\n",
      "7.5s to FLATTEN the 2 analyzed bands of TIF to JPEG\n",
      "0.2s to SHADE PREDICTIONS on JPEG\n",
      "14.3s to DRAW WAYS ON JPEG\n",
      "GENERATING JPEG for /DeepOSM/data/naip/m_3807708_se_18_1_20130924.tif\n",
      "6.5s to FLATTEN the 2 analyzed bands of TIF to JPEG\n",
      "0.2s to SHADE PREDICTIONS on JPEG\n",
      "14.4s to DRAW WAYS ON JPEG\n",
      "GENERATING JPEG for /DeepOSM/data/naip/m_3807708_se_18_1_20130924.tif\n",
      "5.9s to FLATTEN the 2 analyzed bands of TIF to JPEG\n",
      "0.2s to SHADE PREDICTIONS on JPEG\n",
      "14.5s to DRAW WAYS ON JPEG\n"
     ]
    }
   ],
   "source": [
    "run_analysis.render_results_as_images(raster_data_paths, training_labels, test_labels, predictions, way_bitmap_npy)"
   ]
  },
  {
   "cell_type": "code",
   "execution_count": null,
   "metadata": {
    "collapsed": true
   },
   "outputs": [],
   "source": []
  }
 ],
 "metadata": {
  "kernelspec": {
   "display_name": "Python 2",
   "language": "python",
   "name": "python2"
  },
  "language_info": {
   "codemirror_mode": {
    "name": "ipython",
    "version": 2
   },
   "file_extension": ".py",
   "mimetype": "text/x-python",
   "name": "python",
   "nbconvert_exporter": "python",
   "pygments_lexer": "ipython2",
   "version": "2.7.6"
  }
 },
 "nbformat": 4,
 "nbformat_minor": 0
}
