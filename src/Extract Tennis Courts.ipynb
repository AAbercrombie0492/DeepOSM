{
 "cells": [
  {
   "cell_type": "code",
   "execution_count": 1,
   "metadata": {
    "collapsed": false
   },
   "outputs": [],
   "source": [
    "from download_labels import download_and_extract"
   ]
  },
  {
   "cell_type": "code",
   "execution_count": 2,
   "metadata": {
    "collapsed": true
   },
   "outputs": [],
   "source": [
    "from config_data import *"
   ]
  },
  {
   "cell_type": "code",
   "execution_count": 3,
   "metadata": {
    "collapsed": false
   },
   "outputs": [
    {
     "name": "stdout",
     "output_type": "stream",
     "text": [
      "DOWNLOADING 3 PBFs...\n",
      "PBF /DeepOSM/data/maryland-latest.osm.pbf already downloaded\n",
      "PBF /DeepOSM/data/virginia-latest.osm.pbf already downloaded\n",
      "PBF /DeepOSM/data/district-of-columbia-latest.osm.pbf already downloaded\n",
      "EXTRACTED WAYS with locations from pbf file /DeepOSM/data/maryland-latest.osm.pbf, took 30.8s\n",
      "EXTRACTED WAYS with locations from pbf file /DeepOSM/data/virginia-latest.osm.pbf, took 54.0s\n",
      "EXTRACTED WAYS with locations from pbf file /DeepOSM/data/district-of-columbia-latest.osm.pbf, took 5.3s\n"
     ]
    }
   ],
   "source": [
    "waymap = download_and_extract(PBF_FILE_URLS, extract_type='tennis')"
   ]
  },
  {
   "cell_type": "code",
   "execution_count": null,
   "metadata": {
    "collapsed": true
   },
   "outputs": [],
   "source": []
  }
 ],
 "metadata": {
  "kernelspec": {
   "display_name": "Python 2",
   "language": "python",
   "name": "python2"
  },
  "language_info": {
   "codemirror_mode": {
    "name": "ipython",
    "version": 2
   },
   "file_extension": ".py",
   "mimetype": "text/x-python",
   "name": "python",
   "nbconvert_exporter": "python",
   "pygments_lexer": "ipython2",
   "version": "2.7.6"
  }
 },
 "nbformat": 4,
 "nbformat_minor": 0
}
